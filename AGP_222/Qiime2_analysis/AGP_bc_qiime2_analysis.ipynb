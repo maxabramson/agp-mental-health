{
 "cells": [
  {
   "cell_type": "markdown",
   "metadata": {},
   "source": [
    "**DATE**: 1 August 2017 <br>\n",
    "**ENVIRONMENT**: qiime2 <br>\n",
    "**AUTHOR**: Max Abramson"
   ]
  },
  {
   "cell_type": "code",
   "execution_count": 1,
   "metadata": {
    "collapsed": true
   },
   "outputs": [],
   "source": [
    "root = '/Users/maxabramson/Desktop/Knight_Lab/AGP_depression/AGP_broad_criteria/'\n",
    "original_table=root+'Parse_biom_table/filtered_bc_table_222.biom'\n",
    "original_tree=root+'ag_tree.tree'\n",
    "metadata = root+'AGP_bc_subset_metadata_222.txt'\n",
    "qiime2_root = '/Users/maxabramson/Desktop/Knight_Lab/AGP_depression/AGP_broad_criteria/Qiime2_analysis/'"
   ]
  },
  {
   "cell_type": "markdown",
   "metadata": {},
   "source": [
    "# Qiime2 artifacts - table & tree"
   ]
  },
  {
   "cell_type": "code",
   "execution_count": 2,
   "metadata": {
    "collapsed": true
   },
   "outputs": [],
   "source": [
    "table_artifact = qiime2_root+'feature_table.qza'\n",
    "!qiime tools import \\\n",
    "  --input-path $original_table \\\n",
    "  --type FeatureTable[Frequency] \\\n",
    "  --source-format BIOMV210Format \\\n",
    "  --output-path $table_artifact"
   ]
  },
  {
   "cell_type": "code",
   "execution_count": 3,
   "metadata": {
    "collapsed": true
   },
   "outputs": [],
   "source": [
    "tree_artifact = qiime2_root+'rooted_tree.qza'\n",
    "!qiime tools import \\\n",
    "  --input-path $original_tree \\\n",
    "  --output-path $tree_artifact \\\n",
    "  --type 'Phylogeny[Rooted]'"
   ]
  },
  {
   "cell_type": "markdown",
   "metadata": {},
   "source": [
    "# Create a directory for core metric results post rarefaction\n"
   ]
  },
  {
   "cell_type": "code",
   "execution_count": 5,
   "metadata": {},
   "outputs": [
    {
     "name": "stdout",
     "output_type": "stream",
     "text": [
      "\u001b[32mSaved SampleData[AlphaDiversity] to: /Users/maxabramson/Desktop/Knight_Lab/AGP_depression/AGP_broad_criteria/Qiime2_analysis/core_metrics_results_1500/faith_pd_vector.qza\u001b[0m\n",
      "\u001b[32mSaved SampleData[AlphaDiversity] to: /Users/maxabramson/Desktop/Knight_Lab/AGP_depression/AGP_broad_criteria/Qiime2_analysis/core_metrics_results_1500/observed_otus_vector.qza\u001b[0m\n",
      "\u001b[32mSaved SampleData[AlphaDiversity] to: /Users/maxabramson/Desktop/Knight_Lab/AGP_depression/AGP_broad_criteria/Qiime2_analysis/core_metrics_results_1500/shannon_vector.qza\u001b[0m\n",
      "\u001b[32mSaved SampleData[AlphaDiversity] to: /Users/maxabramson/Desktop/Knight_Lab/AGP_depression/AGP_broad_criteria/Qiime2_analysis/core_metrics_results_1500/evenness_vector.qza\u001b[0m\n",
      "\u001b[32mSaved DistanceMatrix to: /Users/maxabramson/Desktop/Knight_Lab/AGP_depression/AGP_broad_criteria/Qiime2_analysis/core_metrics_results_1500/unweighted_unifrac_distance_matrix.qza\u001b[0m\n",
      "\u001b[32mSaved DistanceMatrix to: /Users/maxabramson/Desktop/Knight_Lab/AGP_depression/AGP_broad_criteria/Qiime2_analysis/core_metrics_results_1500/weighted_unifrac_distance_matrix.qza\u001b[0m\n",
      "\u001b[32mSaved DistanceMatrix to: /Users/maxabramson/Desktop/Knight_Lab/AGP_depression/AGP_broad_criteria/Qiime2_analysis/core_metrics_results_1500/jaccard_distance_matrix.qza\u001b[0m\n",
      "\u001b[32mSaved DistanceMatrix to: /Users/maxabramson/Desktop/Knight_Lab/AGP_depression/AGP_broad_criteria/Qiime2_analysis/core_metrics_results_1500/bray_curtis_distance_matrix.qza\u001b[0m\n",
      "\u001b[32mSaved PCoAResults to: /Users/maxabramson/Desktop/Knight_Lab/AGP_depression/AGP_broad_criteria/Qiime2_analysis/core_metrics_results_1500/unweighted_unifrac_pcoa_results.qza\u001b[0m\n",
      "\u001b[32mSaved PCoAResults to: /Users/maxabramson/Desktop/Knight_Lab/AGP_depression/AGP_broad_criteria/Qiime2_analysis/core_metrics_results_1500/weighted_unifrac_pcoa_results.qza\u001b[0m\n",
      "\u001b[32mSaved PCoAResults to: /Users/maxabramson/Desktop/Knight_Lab/AGP_depression/AGP_broad_criteria/Qiime2_analysis/core_metrics_results_1500/jaccard_pcoa_results.qza\u001b[0m\n",
      "\u001b[32mSaved PCoAResults to: /Users/maxabramson/Desktop/Knight_Lab/AGP_depression/AGP_broad_criteria/Qiime2_analysis/core_metrics_results_1500/bray_curtis_pcoa_results.qza\u001b[0m\n"
     ]
    }
   ],
   "source": [
    "results = qiime2_root+'core_metrics_results_1500'\n",
    "!qiime diversity core-metrics \\\n",
    "  --i-phylogeny $tree_artifact \\\n",
    "  --i-table $table_artifact \\\n",
    "  --p-sampling-depth 1500 \\\n",
    "  --output-dir $results"
   ]
  },
  {
   "cell_type": "markdown",
   "metadata": {},
   "source": [
    "# Alpha diversity analysis"
   ]
  },
  {
   "cell_type": "markdown",
   "metadata": {},
   "source": [
    "##### Faith's phylogenetic diversity"
   ]
  },
  {
   "cell_type": "code",
   "execution_count": 6,
   "metadata": {},
   "outputs": [
    {
     "name": "stdout",
     "output_type": "stream",
     "text": [
      "\u001b[32mSaved Visualization to: /Users/maxabramson/Desktop/Knight_Lab/AGP_depression/AGP_broad_criteria/Qiime2_analysis/core_metrics_results_1500/faith_pd_group_significance.qzv\u001b[0m\r\n"
     ]
    }
   ],
   "source": [
    "!qiime diversity alpha-group-significance \\\n",
    "  --i-alpha-diversity $results/faith_pd_vector.qza \\\n",
    "  --m-metadata-file $metadata \\\n",
    "  --o-visualization $results/faith_pd_group_significance.qzv"
   ]
  },
  {
   "cell_type": "code",
   "execution_count": 7,
   "metadata": {},
   "outputs": [
    {
     "name": "stdout",
     "output_type": "stream",
     "text": [
      "Press the 'q' key, Control-C, or Control-D to quit. This view may no longer be accessible or work correctly after quitting.\n",
      "Press the 'q' key, Control-C, or Control-D to quit. This view may no longer be accessible or work correctly after quitting."
     ]
    }
   ],
   "source": [
    "!qiime tools view $results/faith_pd_group_significance.qzv"
   ]
  },
  {
   "cell_type": "markdown",
   "metadata": {},
   "source": [
    "##### Evenness"
   ]
  },
  {
   "cell_type": "code",
   "execution_count": 8,
   "metadata": {},
   "outputs": [
    {
     "name": "stdout",
     "output_type": "stream",
     "text": [
      "\u001b[32mSaved Visualization to: /Users/maxabramson/Desktop/Knight_Lab/AGP_depression/AGP_broad_criteria/Qiime2_analysis/core_metrics_results_1500/evenness_group_significance.qzv\u001b[0m\r\n"
     ]
    }
   ],
   "source": [
    "!qiime diversity alpha-group-significance \\\n",
    "  --i-alpha-diversity $results/evenness_vector.qza \\\n",
    "  --m-metadata-file $metadata \\\n",
    "  --o-visualization $results/evenness_group_significance.qzv"
   ]
  },
  {
   "cell_type": "code",
   "execution_count": 9,
   "metadata": {},
   "outputs": [
    {
     "name": "stdout",
     "output_type": "stream",
     "text": [
      "Press the 'q' key, Control-C, or Control-D to quit. This view may no longer be accessible or work correctly after quitting.\n",
      "Press the 'q' key, Control-C, or Control-D to quit. This view may no longer be accessible or work correctly after quitting."
     ]
    }
   ],
   "source": [
    "!qiime tools view $results/evenness_group_significance.qzv"
   ]
  },
  {
   "cell_type": "markdown",
   "metadata": {},
   "source": [
    "##### Shannon diversity"
   ]
  },
  {
   "cell_type": "code",
   "execution_count": 10,
   "metadata": {},
   "outputs": [
    {
     "name": "stdout",
     "output_type": "stream",
     "text": [
      "\u001b[32mSaved Visualization to: /Users/maxabramson/Desktop/Knight_Lab/AGP_depression/AGP_broad_criteria/Qiime2_analysis/core_metrics_results_1500/shannon_group_significance.qzv\u001b[0m\r\n"
     ]
    }
   ],
   "source": [
    "!qiime diversity alpha-group-significance \\\n",
    "  --i-alpha-diversity $results/shannon_vector.qza \\\n",
    "  --m-metadata-file $metadata \\\n",
    "  --o-visualization $results/shannon_group_significance.qzv"
   ]
  },
  {
   "cell_type": "code",
   "execution_count": 11,
   "metadata": {},
   "outputs": [
    {
     "name": "stdout",
     "output_type": "stream",
     "text": [
      "Press the 'q' key, Control-C, or Control-D to quit. This view may no longer be accessible or work correctly after quitting.\n",
      "Press the 'q' key, Control-C, or Control-D to quit. This view may no longer be accessible or work correctly after quitting."
     ]
    }
   ],
   "source": [
    "!qiime tools view $results/shannon_group_significance.qzv"
   ]
  },
  {
   "cell_type": "markdown",
   "metadata": {},
   "source": [
    "# Beta diversity analysis"
   ]
  },
  {
   "cell_type": "markdown",
   "metadata": {},
   "source": [
    "##### UNWEIGHTED unifrac distance matrix specifically looking at 'case'"
   ]
  },
  {
   "cell_type": "code",
   "execution_count": 12,
   "metadata": {},
   "outputs": [
    {
     "name": "stdout",
     "output_type": "stream",
     "text": [
      "\u001b[32mSaved Visualization to: /Users/maxabramson/Desktop/Knight_Lab/AGP_depression/AGP_broad_criteria/Qiime2_analysis/core_metrics_results_1500/unweighted_unifrac_case_significance.qzv\u001b[0m\r\n"
     ]
    }
   ],
   "source": [
    "!qiime diversity beta-group-significance \\\n",
    "  --i-distance-matrix $results/unweighted_unifrac_distance_matrix.qza \\\n",
    "  --m-metadata-file $metadata \\\n",
    "  --m-metadata-category case \\\n",
    "  --o-visualization $results/unweighted_unifrac_case_significance.qzv \\\n",
    "  --p-pairwise"
   ]
  },
  {
   "cell_type": "code",
   "execution_count": 14,
   "metadata": {},
   "outputs": [
    {
     "name": "stdout",
     "output_type": "stream",
     "text": [
      "Press the 'q' key, Control-C, or Control-D to quit. This view may no longer be accessible or work correctly after quitting.\n",
      "Press the 'q' key, Control-C, or Control-D to quit. This view may no longer be accessible or work correctly after quitting."
     ]
    }
   ],
   "source": [
    "!qiime tools view $results/unweighted_unifrac_case_significance.qzv"
   ]
  },
  {
   "cell_type": "markdown",
   "metadata": {},
   "source": [
    "##### WEIGHTED unifrac distance matrix specifically looking at 'case'"
   ]
  },
  {
   "cell_type": "code",
   "execution_count": 13,
   "metadata": {},
   "outputs": [
    {
     "name": "stdout",
     "output_type": "stream",
     "text": [
      "\u001b[32mSaved Visualization to: /Users/maxabramson/Desktop/Knight_Lab/AGP_depression/AGP_broad_criteria/Qiime2_analysis/core_metrics_results_1500/weighted_unifrac_case_significance.qzv\u001b[0m\r\n"
     ]
    }
   ],
   "source": [
    "!qiime diversity beta-group-significance \\\n",
    "  --i-distance-matrix $results/weighted_unifrac_distance_matrix.qza \\\n",
    "  --m-metadata-file $metadata \\\n",
    "  --m-metadata-category case \\\n",
    "  --o-visualization $results/weighted_unifrac_case_significance.qzv \\\n",
    "  --p-pairwise"
   ]
  },
  {
   "cell_type": "code",
   "execution_count": 15,
   "metadata": {},
   "outputs": [
    {
     "name": "stdout",
     "output_type": "stream",
     "text": [
      "Press the 'q' key, Control-C, or Control-D to quit. This view may no longer be accessible or work correctly after quitting.\n",
      "Press the 'q' key, Control-C, or Control-D to quit. This view may no longer be accessible or work correctly after quitting."
     ]
    }
   ],
   "source": [
    "!qiime tools view core_metrics_results/weighted_unifrac_case_significance.qzv"
   ]
  },
  {
   "cell_type": "markdown",
   "metadata": {},
   "source": [
    "# Emperor plots"
   ]
  },
  {
   "cell_type": "markdown",
   "metadata": {},
   "source": [
    "##### UNWEIGHTED unifrac"
   ]
  },
  {
   "cell_type": "code",
   "execution_count": 18,
   "metadata": {},
   "outputs": [
    {
     "name": "stdout",
     "output_type": "stream",
     "text": [
      "\u001b[32mSaved Visualization to: /Users/maxabramson/Desktop/Knight_Lab/AGP_depression/AGP_broad_criteria/Qiime2_analysis/core_metrics_results_1500/unweighted_unifrac_emperor.qzv\u001b[0m\r\n"
     ]
    }
   ],
   "source": [
    "!qiime emperor plot \\\n",
    "  --i-pcoa $results/unweighted_unifrac_pcoa_results.qza \\\n",
    "  --m-metadata-file $metadata \\\n",
    "  --o-visualization $results/unweighted_unifrac_emperor.qzv"
   ]
  },
  {
   "cell_type": "code",
   "execution_count": 20,
   "metadata": {},
   "outputs": [
    {
     "name": "stdout",
     "output_type": "stream",
     "text": [
      "Press the 'q' key, Control-C, or Control-D to quit. This view may no longer be accessible or work correctly after quitting.\n",
      "Press the 'q' key, Control-C, or Control-D to quit. This view may no longer be accessible or work correctly after quitting."
     ]
    }
   ],
   "source": [
    "!qiime tools view $results/unweighted_unifrac_emperor.qzv"
   ]
  },
  {
   "cell_type": "markdown",
   "metadata": {},
   "source": [
    "##### WEIGHTED unifrac"
   ]
  },
  {
   "cell_type": "code",
   "execution_count": 16,
   "metadata": {},
   "outputs": [
    {
     "name": "stdout",
     "output_type": "stream",
     "text": [
      "\u001b[32mSaved Visualization to: /Users/maxabramson/Desktop/Knight_Lab/AGP_depression/AGP_broad_criteria/Qiime2_analysis/core_metrics_results_1500/weighted_unifrac_emperor.qzv\u001b[0m\r\n"
     ]
    }
   ],
   "source": [
    "!qiime emperor plot \\\n",
    "  --i-pcoa $results/weighted_unifrac_pcoa_results.qza \\\n",
    "  --m-metadata-file $metadata \\\n",
    "  --o-visualization $results/weighted_unifrac_emperor.qzv"
   ]
  },
  {
   "cell_type": "code",
   "execution_count": null,
   "metadata": {},
   "outputs": [
    {
     "name": "stdout",
     "output_type": "stream",
     "text": [
      "Press the 'q' key, Control-C, or Control-D to quit. This view may no longer be accessible or work correctly after quitting."
     ]
    }
   ],
   "source": [
    "!qiime tools view $results/weighted_unifrac_emperor.qzv"
   ]
  },
  {
   "cell_type": "markdown",
   "metadata": {},
   "source": [
    "##### Bray curtis"
   ]
  },
  {
   "cell_type": "code",
   "execution_count": 19,
   "metadata": {},
   "outputs": [
    {
     "name": "stdout",
     "output_type": "stream",
     "text": [
      "\u001b[32mSaved Visualization to: /Users/maxabramson/Desktop/Knight_Lab/AGP_depression/AGP_broad_criteria/Qiime2_analysis/core_metrics_results_1500/bray_curtis_emperor.qzv\u001b[0m\r\n"
     ]
    }
   ],
   "source": [
    "!qiime emperor plot \\\n",
    "  --i-pcoa $results/bray_curtis_pcoa_results.qza \\\n",
    "  --m-metadata-file $metadata \\\n",
    "  --o-visualization $results/bray_curtis_emperor.qzv"
   ]
  },
  {
   "cell_type": "code",
   "execution_count": 24,
   "metadata": {},
   "outputs": [
    {
     "name": "stdout",
     "output_type": "stream",
     "text": [
      "Press the 'q' key, Control-C, or Control-D to quit. This view may no longer be accessible or work correctly after quitting.\n",
      "Press the 'q' key, Control-C, or Control-D to quit. This view may no longer be accessible or work correctly after quitting."
     ]
    }
   ],
   "source": [
    "!qiime tools view $results/bray_curtis_emperor.qzv"
   ]
  },
  {
   "cell_type": "code",
   "execution_count": null,
   "metadata": {
    "collapsed": true
   },
   "outputs": [],
   "source": []
  }
 ],
 "metadata": {
  "kernelspec": {
   "display_name": "Python 3",
   "language": "python",
   "name": "python3"
  },
  "language_info": {
   "codemirror_mode": {
    "name": "ipython",
    "version": 3
   },
   "file_extension": ".py",
   "mimetype": "text/x-python",
   "name": "python",
   "nbconvert_exporter": "python",
   "pygments_lexer": "ipython3",
   "version": "3.6.1"
  }
 },
 "nbformat": 4,
 "nbformat_minor": 2
}
