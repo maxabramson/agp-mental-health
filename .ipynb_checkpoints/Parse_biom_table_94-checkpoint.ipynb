{
 "cells": [
  {
   "cell_type": "markdown",
   "metadata": {},
   "source": [
    "**DATE**: 18 July 2017 <br>\n",
    "**ENVIRONMENT**: qiime1 <br>\n",
    "**AUTHOR**: Max Abramson"
   ]
  },
  {
   "cell_type": "code",
   "execution_count": 3,
   "metadata": {
    "collapsed": true
   },
   "outputs": [],
   "source": [
    "import pandas as pd\n",
    "from IPython.display import FileLinks, FileLink"
   ]
  },
  {
   "cell_type": "code",
   "execution_count": 4,
   "metadata": {
    "collapsed": true
   },
   "outputs": [],
   "source": [
    "!filter_samples_from_otu_table.py \\\n",
    "-i ./otu_table_no_blooms_125nt_with_tax_min1250.biom \\\n",
    "-o filtered_otu_table_94.biom \\\n",
    "--sample_id_fp ./AGP_metadata_subset_94.txt"
   ]
  },
  {
   "cell_type": "code",
   "execution_count": 5,
   "metadata": {
    "collapsed": true
   },
   "outputs": [],
   "source": [
    "!biom summarize-table -i ./filtered_otu_table_94.biom \\\n",
    "-o filtered_otu_table_94_summary.txt"
   ]
  },
  {
   "cell_type": "code",
   "execution_count": null,
   "metadata": {
    "collapsed": true
   },
   "outputs": [],
   "source": []
  }
 ],
 "metadata": {
  "kernelspec": {
   "display_name": "Python 2",
   "language": "python",
   "name": "python2"
  },
  "language_info": {
   "codemirror_mode": {
    "name": "ipython",
    "version": 2
   },
   "file_extension": ".py",
   "mimetype": "text/x-python",
   "name": "python",
   "nbconvert_exporter": "python",
   "pygments_lexer": "ipython2",
   "version": "2.7.13"
  }
 },
 "nbformat": 4,
 "nbformat_minor": 2
}
